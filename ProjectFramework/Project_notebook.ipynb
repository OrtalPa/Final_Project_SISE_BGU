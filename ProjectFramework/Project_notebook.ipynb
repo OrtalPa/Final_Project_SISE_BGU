{
 "cells": [
  {
   "cell_type": "markdown",
   "metadata": {},
   "source": [
    "# Final project: Meta Aggregation #\n",
    "\n",
    "### by: Ortal & Raz & Michal\n",
    "### guidence: Hila"
   ]
  },
  {
   "cell_type": "code",
   "execution_count": null,
   "metadata": {},
   "outputs": [],
   "source": [
    "pip install scikit-multilearn"
   ]
  },
  {
   "cell_type": "code",
   "execution_count": null,
   "metadata": {},
   "outputs": [],
   "source": [
    "pip install shap"
   ]
  },
  {
   "cell_type": "code",
   "execution_count": null,
   "metadata": {},
   "outputs": [],
   "source": [
    "pip install interpret"
   ]
  },
  {
   "cell_type": "code",
   "execution_count": 1,
   "metadata": {},
   "outputs": [
    {
     "name": "stdout",
     "output_type": "stream",
     "text": [
      "0.7159533073929961\n"
     ]
    }
   ],
   "source": [
    "from sklearn.ensemble import RandomForestClassifier\n",
    "from sklearn.metrics import accuracy_score\n",
    "from sklearn.neural_network import MLPClassifier\n",
    "from skmultilearn.problem_transform import ClassifierChain\n",
    "from sklearn.model_selection import train_test_split\n",
    "from GetProcessedData import get_question_dfs\n",
    "from AggregationMethods.ConfidenceMethods import highest_average_confidence\n",
    "from AggregationMethods.SurprisinglyPopular import surprisingly_pop_answer\n",
    "from AggregationMethods.MajorityRule import majority_answer\n",
    "from FeaturesExtraction.AnswerFeatures import AnswerF\n",
    "from FeaturesExtraction.AnswerFeaturesSubgroups import AnswerSubF\n",
    "from FeaturesExtraction.ConfidenceFeatures import ConfidenceF\n",
    "from FeaturesExtraction.ConfidenceFeaturesSubgroups import ConfidenceSubF\n",
    "from FeaturesExtraction.PredictionFeatures import PredictionsF\n",
    "import Pipeline.MultiLabelPipeline as MLpip"
   ]
  },
  {
   "cell_type": "code",
   "execution_count": 2,
   "metadata": {},
   "outputs": [],
   "source": [
    "#libraries\n",
    "import sys\n",
    "import os\n",
    "\n",
    "module_path = os.path.abspath(os.path.join(os.pardir, os.pardir))\n",
    "if module_path not in sys.path:\n",
    "    sys.path.append(module_path)\n",
    "\n",
    "# from ProjectFramework.GetProcessedData import get_question_dfs\n",
    "# from ProjectFramework.Pipeline.MultiLabelPipeline import create_data_df\n",
    "\n",
    "#import ProjectFramework.Pipeline.MultiLabelPipeline.MultiLabelPipeline.create_data_df\n",
    "import numpy as np \n",
    "import pandas as pd \n",
    "import os\n",
    "import json \n",
    "import matplotlib.pyplot as plt\n",
    "%matplotlib inline\n",
    "plt.style.use('ggplot')\n",
    "\n",
    "from sklearn.preprocessing import LabelEncoder\n",
    "from sklearn.model_selection import train_test_split\n",
    "from sklearn.datasets import make_classification\n",
    "from sklearn.model_selection import LeaveOneOut\n",
    "from sklearn.model_selection import StratifiedKFold, KFold\n",
    "from sklearn.metrics import accuracy_score,confusion_matrix,classification_report\n",
    "\n",
    "from sklearn.linear_model import LogisticRegression, LogisticRegressionCV\n",
    "from sklearn.naive_bayes import GaussianNB\n",
    "from sklearn.svm import SVC,LinearSVC\n",
    "from sklearn.ensemble import RandomForestClassifier\n",
    "from sklearn.tree import DecisionTreeClassifier\n",
    "from sklearn.neighbors import KNeighborsClassifier\n",
    "from sklearn.naive_bayes import BernoulliNB\n",
    "from sklearn.linear_model import SGDClassifier\n",
    "import shap"
   ]
  },
  {
   "cell_type": "code",
   "execution_count": 3,
   "metadata": {},
   "outputs": [],
   "source": [
    "RF = RandomForestClassifier(random_state=0)  #has no predict_proba option\n",
    "LR = LogisticRegression(solver = 'liblinear')\n",
    "GNB = GaussianNB()\n",
    "SVC = LinearSVC(random_state=0)\n",
    "DT = DecisionTreeClassifier(random_state=0) \n",
    "BNB = BernoulliNB()\n",
    "SGD = SGDClassifier()  #has no predict_proba option"
   ]
  },
  {
   "cell_type": "code",
   "execution_count": 12,
   "metadata": {},
   "outputs": [],
   "source": [
    "# get compleate data frame with features:\n",
    "\n",
    "DATA = MLpip.get_data()\n",
    "LABELS = MLpip.get_label_names()\n",
    "\n",
    "y = DATA[LABELS]\n",
    "x = DATA.drop(LABELS,axis='columns', inplace=False, errors='ignore')\n",
    "x.drop('dataset_id',axis='columns', inplace=True, errors='ignore')"
   ]
  },
  {
   "cell_type": "code",
   "execution_count": 8,
   "metadata": {},
   "outputs": [],
   "source": [
    "Accuracy = {}"
   ]
  },
  {
   "cell_type": "code",
   "execution_count": 14,
   "metadata": {},
   "outputs": [
    {
     "data": {
      "text/plain": [
       "(1281, 42)"
      ]
     },
     "execution_count": 14,
     "metadata": {},
     "output_type": "execute_result"
    }
   ],
   "source": [
    "x.shape"
   ]
  },
  {
   "cell_type": "markdown",
   "metadata": {},
   "source": [
    "## classifier_chain"
   ]
  },
  {
   "cell_type": "code",
   "execution_count": null,
   "metadata": {},
   "outputs": [],
   "source": [
    "# split data into train and test using leave one out validation\n",
    "results_c_rf = {}\n",
    "results_c_lr = {}\n",
    "results_c_gnb = {}\n",
    "results_c_dt = {}\n",
    "results_c_bnb = {}\n",
    "results_c_sgd = {}\n",
    "\n",
    "# res = []\n",
    "loo = LeaveOneOut()\n",
    "loo.get_n_splits(x)\n",
    "\n",
    "for train_index, test_index in loo.split(x):\n",
    "    # print(\"TRAIN:\", train_index, \"TEST:\", test_index)\n",
    "    x_train, x_test = x.loc[train_index], x.loc[test_index]\n",
    "    y_train, y_test = y.loc[train_index], y.loc[test_index]\n",
    "    # print(X_train, X_test, y_train, y_test)\n",
    "    ## HERE - run moddels\n",
    "    \n",
    "#     clf_chain_RF = MLpip.classifier_chain(x_train, y_train, RandomForestClassifier(random_state=0))\n",
    "#     results_c_rf.update(MLpip.get_chain_model_results(clf_chain_RF, x_test))\n",
    "\n",
    "    clf_chain_LR = MLpip.classifier_chain(x_train, y_train,LogisticRegression(solver = 'liblinear',max_iter=10000))\n",
    "    results_c_lr.update(MLpip.get_chain_model_results(clf_chain_LR, x_test))\n",
    "\n",
    "    clf_chain_GNB = MLpip.classifier_chain(x_train, y_train, GaussianNB())\n",
    "    results_c_gnb.update(MLpip.get_chain_model_results(clf_chain_GNB, x_test))\n",
    "\n",
    "    clf_chain_DT = MLpip.classifier_chain(x_train, y_train, DecisionTreeClassifier(random_state=0))\n",
    "    results_c_dt.update(MLpip.get_chain_model_results(clf_chain_DT, x_test))\n",
    "\n",
    "    clf_chain_BNB = MLpip.classifier_chain(x_train, y_train, BernoulliNB())\n",
    "    results_c_bnb.update(MLpip.get_chain_model_results(clf_chain_BNB, x_test))\n",
    "\n",
    "#     clf_chain_SGD = MLpip.classifier_chain(x_train, y_train, SGDClassifier())\n",
    "#     results_c_sgd.update(MLpip.get_chain_model_results(clf_chain_SGD, x_test))\n",
    "\n",
    "\n",
    "# Accuracy['c_RF'] = MLpip.get_accuracy(results_c_rf, y) #no proba\n",
    "Accuracy['c_LR'] = MLpip.get_accuracy(results_c_lr, y)\n",
    "Accuracy['c_GNB'] = MLpip.get_accuracy(results_c_gnb, y)   \n",
    "Accuracy['c_DT'] = MLpip.get_accuracy(results_c_dt, y)    \n",
    "Accuracy['c_BNB'] = MLpip.get_accuracy(results_c_bnb, y) \n",
    "# Accuracy['c_SGD'] = MLpip.get_accuracy(results_c_sgd, y) #no proba\n"
   ]
  },
  {
   "cell_type": "code",
   "execution_count": null,
   "metadata": {},
   "outputs": [],
   "source": [
    "Accuracy"
   ]
  },
  {
   "cell_type": "markdown",
   "metadata": {},
   "source": [
    "## binary_relevance"
   ]
  },
  {
   "cell_type": "code",
   "execution_count": null,
   "metadata": {},
   "outputs": [],
   "source": [
    "# split data into train and test using leave one out validation\n",
    "results_b_rf = {}\n",
    "results_b_lr = {}\n",
    "results_b_gnb = {}\n",
    "results_b_dt = {}\n",
    "results_b_bnb = {}\n",
    "results_b_sgd = {}\n",
    "\n",
    "# res = []\n",
    "loo = LeaveOneOut()\n",
    "loo.get_n_splits(x)\n",
    "\n",
    "for train_index, test_index in loo.split(x):\n",
    "    # print(\"TRAIN:\", train_index, \"TEST:\", test_index)\n",
    "    x_train, x_test = x.loc[train_index], x.loc[test_index]\n",
    "    y_train, y_test = y.loc[train_index], y.loc[test_index]\n",
    "    # print(X_train, X_test, y_train, y_test)\n",
    "    ## HERE - run moddels\n",
    "    \n",
    "#     clf_chain_RF = MLpip.binary_relevance(x_train, y_train, RandomForestClassifier(random_state=0))\n",
    "#     results_b_rf.update(MLpip.get_binary_model_results(clf_chain_RF, x_test))\n",
    "\n",
    "    clf_chain_LR = MLpip.binary_relevance(x_train, y_train,LogisticRegression(solver = 'liblinear',max_iter=10000))\n",
    "    results_b_lr.update(MLpip.get_binary_model_results(clf_chain_LR, x_test))\n",
    "\n",
    "    clf_chain_GNB = MLpip.binary_relevance(x_train, y_train, GaussianNB())\n",
    "    results_b_gnb.update(MLpip.get_binary_model_results(clf_chain_GNB, x_test))\n",
    "\n",
    "    clf_chain_DT = MLpip.binary_relevance(x_train, y_train, DecisionTreeClassifier(random_state=0))\n",
    "    results_b_dt.update(MLpip.get_binary_model_results(clf_chain_DT, x_test))\n",
    "\n",
    "    clf_chain_BNB = MLpip.binary_relevance(x_train, y_train, BernoulliNB())\n",
    "    results_b_bnb.update(MLpip.get_binary_model_results(clf_chain_BNB, x_test))\n",
    "\n",
    "#     clf_chain_SGD = MLpip.binary_relevance(x_train, y_train, SGDClassifier())\n",
    "#     results_b_sgd.update(MLpip.get_binary_model_results(clf_chain_SGD, x_test))\n",
    "\n",
    "# Accuracy['b_RF'] = MLpip.get_accuracy(results_b_rf, y)\n",
    "Accuracy['b_LR'] = MLpip.get_accuracy(results_b_lr, y)\n",
    "Accuracy['b_GNB'] = MLpip.get_accuracy(results_b_gnb, y)   \n",
    "Accuracy['b_DT'] = MLpip.get_accuracy(results_b_dt, y)    \n",
    "Accuracy['b_BNB'] = MLpip.get_accuracy(results_b_bnb, y) \n",
    "# Accuracy['b_SGD'] = MLpip.get_accuracy(results_b_sgd, y)\n"
   ]
  },
  {
   "cell_type": "code",
   "execution_count": null,
   "metadata": {},
   "outputs": [],
   "source": [
    "Accuracy"
   ]
  },
  {
   "cell_type": "markdown",
   "metadata": {},
   "source": [
    "## label_powerset"
   ]
  },
  {
   "cell_type": "code",
   "execution_count": null,
   "metadata": {},
   "outputs": [],
   "source": [
    "# split data into train and test using leave one out validation\n",
    "results_p_rf = {}\n",
    "results_p_lr = {}\n",
    "results_p_gnb = {}\n",
    "results_p_dt = {}\n",
    "results_p_bnb = {}\n",
    "results_p_sgd = {}\n",
    "\n",
    "# res = []\n",
    "loo = LeaveOneOut()\n",
    "loo.get_n_splits(x)\n",
    "\n",
    "for train_index, test_index in loo.split(x):\n",
    "    # print(\"TRAIN:\", train_index, \"TEST:\", test_index)\n",
    "    x_train, x_test = x.loc[train_index], x.loc[test_index]\n",
    "    y_train, y_test = y.loc[train_index], y.loc[test_index]\n",
    "    # print(X_train, X_test, y_train, y_test)\n",
    "    ## HERE - run moddels\n",
    "    \n",
    "#     clf_chain_RF = MLpip.label_powerset(x_train, y_train, RandomForestClassifier(random_state=0))\n",
    "#     results_p_rf.update(MLpip.get_binary_model_results(clf_chain_RF, x_test))\n",
    "\n",
    "    clf_chain_LR = MLpip.label_powerset(x_train, y_train,LogisticRegression(solver = 'liblinear',max_iter=10000))\n",
    "    results_p_lr.update(MLpip.get_binary_model_results(clf_chain_LR, x_test))\n",
    "\n",
    "    clf_chain_GNB = MLpip.label_powerset(x_train, y_train, GaussianNB())\n",
    "    results_p_gnb.update(MLpip.get_binary_model_results(clf_chain_GNB, x_test))\n",
    "\n",
    "    clf_chain_DT = MLpip.label_powerset(x_train, y_train, DecisionTreeClassifier(random_state=0))\n",
    "    results_p_dt.update(MLpip.get_binary_model_results(clf_chain_DT, x_test))\n",
    "\n",
    "    clf_chain_BNB = MLpip.label_powerset(x_train, y_train, BernoulliNB())\n",
    "    results_p_bnb.update(MLpip.get_binary_model_results(clf_chain_BNB, x_test))\n",
    "\n",
    "#     clf_chain_SGD = MLpip.label_powerset(x_train, y_train, SGDClassifier())\n",
    "#     results_p_sgd.update(MLpip.get_binary_model_results(clf_chain_SGD, x_test))\n",
    "\n",
    "# Accuracy['p_RF'] = MLpip.get_accuracy(results_p_rf, y)\n",
    "Accuracy['p_LR'] = MLpip.get_accuracy(results_p_lr, y)\n",
    "Accuracy['p_GNB'] = MLpip.get_accuracy(results_p_gnb, y)   \n",
    "Accuracy['p_DT'] = MLpip.get_accuracy(results_p_dt, y)    \n",
    "Accuracy['p_BNB'] = MLpip.get_accuracy(results_p_bnb, y) \n",
    "# Accuracy['p_SGD'] = MLpip.get_accuracy(results_p_sgd, y)\n"
   ]
  },
  {
   "cell_type": "code",
   "execution_count": null,
   "metadata": {},
   "outputs": [],
   "source": [
    "Accuracy"
   ]
  },
  {
   "cell_type": "code",
   "execution_count": null,
   "metadata": {},
   "outputs": [],
   "source": [
    "# from sklearn.metrics import hamming_loss, accuracy_score \n",
    "\n",
    "# print(\"accuracy_score:\", accuracy_score(y, res))\n",
    "# print(\"Hamming_loss:\", hamming_loss(y, res))"
   ]
  },
  {
   "cell_type": "markdown",
   "metadata": {},
   "source": [
    "## K-fold implementation"
   ]
  },
  {
   "cell_type": "code",
   "execution_count": null,
   "metadata": {},
   "outputs": [],
   "source": [
    "# split data into train and test using k-fold cross validation\n",
    "\n",
    "results_k_b_rf = {}\n",
    "results_k_b_lr = {}\n",
    "results_k_b_gnb = {}\n",
    "results_k_b_dt = {}\n",
    "results_k_b_bnb = {}\n",
    "results_k_b_sgd = {}\n",
    "\n",
    "kf = KFold(n_splits=3, random_state=None, shuffle=False) # Define the split - into 2 folds \n",
    "kf.get_n_splits(x) # returns the number of splitting iterations in the cross-validator\n",
    "\n",
    "for train_index, test_index in kf.split(x):\n",
    "    # print(“TRAIN:”, train_index, “TEST:”, test_index)\n",
    "    x_train, x_test = x.loc[train_index], x.loc[test_index]\n",
    "    y_train, y_test = y.loc[train_index], y.loc[test_index]\n",
    "    ## HERE - run moddels\n",
    "    clf_chain_RF = MLpip.binary_relevance(x_train, y_train, RandomForestClassifier())\n",
    "    results_k_b_rf.update(MLpip.get_binary_model_results(clf_chain_RF, x_test))\n",
    "\n",
    "    clf_chain_LR = MLpip.binary_relevance(x_train, y_train,LogisticRegression(solver = 'liblinear',max_iter=10000))\n",
    "    results_k_b_lr.update(MLpip.get_binary_model_results(clf_chain_LR, x_test))\n",
    "\n",
    "    clf_chain_GNB = MLpip.binary_relevance(x_train, y_train, GaussianNB())\n",
    "    results_k_b_gnb.update(MLpip.get_binary_model_results(clf_chain_GNB, x_test))\n",
    "\n",
    "    clf_chain_DT = MLpip.binary_relevance(x_train, y_train, DecisionTreeClassifier(random_state=0))\n",
    "    results_k_b_dt.update(MLpip.get_binary_model_results(clf_chain_DT, x_test))\n",
    "\n",
    "    clf_chain_BNB = MLpip.binary_relevance(x_train, y_train, BernoulliNB())\n",
    "    results_k_b_bnb.update(MLpip.get_binary_model_results(clf_chain_BNB, x_test))\n",
    "\n",
    "#     clf_chain_SGD = MLpip.binary_relevance(x_train, y_train, SGDClassifier())\n",
    "#     results_k_b_sgd.update(MLpip.get_binary_model_results(clf_chain_SGD, x_test))\n",
    "\n",
    "Accuracy['k_b_RF'] = MLpip.get_accuracy(results_k_b_rf, y)\n",
    "Accuracy['k_b_LR'] = MLpip.get_accuracy(results_k_b_lr, y)\n",
    "Accuracy['k_b_GNB'] = MLpip.get_accuracy(results_k_b_gnb, y)   \n",
    "Accuracy['k_b_DT'] = MLpip.get_accuracy(results_k_b_dt, y)    \n",
    "Accuracy['k_b_BNB'] = MLpip.get_accuracy(results_k_b_bnb, y) \n",
    "# Accuracy['k_b_SGD'] = MLpip.get_accuracy(results_k_b_sgd, y)\n"
   ]
  },
  {
   "cell_type": "code",
   "execution_count": null,
   "metadata": {},
   "outputs": [],
   "source": [
    "Accuracy"
   ]
  },
  {
   "cell_type": "code",
   "execution_count": null,
   "metadata": {},
   "outputs": [],
   "source": [
    "from sklearn.model_selection import cross_val_score, cross_val_predict\n",
    "from sklearn import metrics\n",
    "\n",
    "# Perform k-fold cross validation\n",
    "k = 10\n",
    "scores = cross_val_score(model, x, y, cv=k)\n",
    "print “Cross-validated scores:”, scores\n",
    "    \n",
    "# Make cross validated predictions\n",
    "predictions = cross_val_predict(model, df, y, cv=k)\n",
    "plt.scatter(y, predictions)"
   ]
  },
  {
   "cell_type": "markdown",
   "metadata": {},
   "source": [
    "## present accuracy"
   ]
  },
  {
   "cell_type": "code",
   "execution_count": null,
   "metadata": {},
   "outputs": [],
   "source": [
    "Accuracy"
   ]
  },
  {
   "cell_type": "markdown",
   "metadata": {},
   "source": [
    "## shap feature evaluation"
   ]
  },
  {
   "cell_type": "code",
   "execution_count": null,
   "metadata": {},
   "outputs": [],
   "source": [
    "#Random Forest Model\n",
    "rfc=RandomForestClassifier()\n",
    "model_2=rfc.fit(x_train,y_train['MR'])\n",
    "rfc_predict=model_2.predict(x_test)\n",
    "\n",
    "# load JS vis\n",
    "shap.initjs() \n",
    "\n",
    "# create a tree explainer for Random Forest\n",
    "explainer = shap.TreeExplainer(model_2)\n",
    "\n",
    "#sample 100 observations from the test data\n",
    "observations = x_test.sample(100, random_state=42)\n",
    "\n",
    "#create an explainer\n",
    "shap_values = explainer.shap_values(observations)\n",
    "\n",
    "#generate a summary plot\n",
    "shap.summary_plot(shap_values[1], features=observations)"
   ]
  },
  {
   "cell_type": "code",
   "execution_count": null,
   "metadata": {},
   "outputs": [],
   "source": [
    "import sklearn\n",
    "\n",
    "# a classic housing price dataset\n",
    "X100 = shap.utils.sample(x_test, 100) # 100 instances for use as the background distribution\n",
    "\n",
    "# a simple linear model\n",
    "#model = sklearn.linear_model.LinearRegression()\n",
    "model = GaussianNB()\n",
    "model.fit(x_test, y_test['MR'])\n",
    "\n",
    "explainer = shap.Explainer(model.predict, X100)\n",
    "shap_values = explainer(x_test)\n",
    "\n",
    "#shap.plots.waterfall(shap_values[18], max_display=14)"
   ]
  },
  {
   "cell_type": "code",
   "execution_count": null,
   "metadata": {},
   "outputs": [],
   "source": [
    "shap.plots.waterfall(shap_values[18], max_display=20)"
   ]
  },
  {
   "cell_type": "code",
   "execution_count": null,
   "metadata": {},
   "outputs": [],
   "source": [
    "# fit a GAM model to the data\n",
    "import interpret\n",
    "import interpret.glassbox\n",
    "model_ebm = interpret.glassbox.ExplainableBoostingRegressor()\n",
    "model_ebm.fit(x_test, y_test['MR'])\n",
    "\n",
    "# explain the GAM model with SHAP\n",
    "explainer_ebm = shap.Explainer(model_ebm.predict, X100)\n",
    "shap_values_ebm = explainer_ebm(x_test)\n",
    "\n",
    "shap.plots.beeswarm(shap_values_ebm, max_display=40)"
   ]
  },
  {
   "cell_type": "code",
   "execution_count": null,
   "metadata": {},
   "outputs": [],
   "source": [
    "shap.plots.bar(shap_values, max_display=30)"
   ]
  },
  {
   "cell_type": "code",
   "execution_count": null,
   "metadata": {},
   "outputs": [],
   "source": [
    "# https://shap.readthedocs.io/en/latest/example_notebooks/overviews/An%20introduction%20to%20explainable%20AI%20with%20Shapley%20values.html\n",
    "\n",
    "shap.dependence_plot(\"A_num\", shap_values_ebm, x_test)"
   ]
  },
  {
   "cell_type": "code",
   "execution_count": null,
   "metadata": {},
   "outputs": [],
   "source": [
    "y_train['HAC']\n",
    "y_train['MR']\n",
    "y_train['SP']\n",
    "y_train['WC']\n"
   ]
  },
  {
   "cell_type": "markdown",
   "metadata": {},
   "source": [
    "## confusion matrix"
   ]
  },
  {
   "cell_type": "code",
   "execution_count": null,
   "metadata": {},
   "outputs": [],
   "source": [
    "#confusion matrix visualization\n",
    "\n",
    "def plot_confusion_matrix(test_Y, predict_y):\n",
    "    C = confusion_matrix(test_Y, predict_y)\n",
    "    A =(((C.T)/(C.sum(axis=1))).T)\n",
    "    B =(C/C.sum(axis=0))\n",
    "    plt.figure(figsize=(20,4))\n",
    "    labels = [1,2]\n",
    "    cmap=sns.light_palette(\"#45c6c4\")\n",
    "    plt.subplot(1, 3, 1)\n",
    "    sns.heatmap(C, annot=True, cmap=cmap, fmt=\".3f\", xticklabels=labels, yticklabels=labels)\n",
    "    plt.xlabel('Predicted Class')\n",
    "    plt.ylabel('Original Class')\n",
    "    plt.title(\"Confusion matrix\")\n",
    "    plt.subplot(1, 3, 2)\n",
    "    sns.heatmap(B, annot=True, cmap=cmap, fmt=\".3f\", xticklabels=labels, yticklabels=labels)\n",
    "    plt.xlabel('Predicted Class')\n",
    "    plt.ylabel('Original Class')\n",
    "    plt.title(\"Precision matrix\")\n",
    "    plt.subplot(1, 3, 3)\n",
    "    sns.heatmap(A, annot=True, cmap=cmap, fmt=\".3f\", xticklabels=labels, yticklabels=labels)\n",
    "    plt.xlabel('Predicted Class')\n",
    "    plt.ylabel('Original Class')\n",
    "    plt.title(\"Recall matrix\")\n",
    "    plt.show()\n",
    "\n",
    "plot_confusion_matrix(y_test, rfc_predict)"
   ]
  }
 ],
 "metadata": {
  "kernelspec": {
   "display_name": "Python 3",
   "language": "python",
   "name": "python3"
  },
  "language_info": {
   "codemirror_mode": {
    "name": "ipython",
    "version": 3
   },
   "file_extension": ".py",
   "mimetype": "text/x-python",
   "name": "python",
   "nbconvert_exporter": "python",
   "pygments_lexer": "ipython3",
   "version": "3.7.8"
  }
 },
 "nbformat": 4,
 "nbformat_minor": 4
}
