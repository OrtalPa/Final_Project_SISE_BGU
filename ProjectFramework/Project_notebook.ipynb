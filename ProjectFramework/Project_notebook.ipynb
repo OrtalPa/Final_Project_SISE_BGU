{
 "cells": [
  {
   "cell_type": "markdown",
   "metadata": {},
   "source": [
    "# Final project: Meta Aggregation #\n",
    "\n",
    "### by: Ortal & Raz & Michal\n",
    "### guidence: Hila"
   ]
  },
  {
   "cell_type": "code",
   "execution_count": null,
   "metadata": {},
   "outputs": [],
   "source": [
    "!pip install shap"
   ]
  },
  {
   "cell_type": "code",
   "execution_count": null,
   "metadata": {},
   "outputs": [],
   "source": [
    "pip install scikit-multilearn"
   ]
  },
  {
   "cell_type": "code",
   "execution_count": 1,
   "metadata": {},
   "outputs": [],
   "source": [
    "from sklearn.ensemble import RandomForestClassifier\n",
    "from sklearn.metrics import accuracy_score\n",
    "from sklearn.neural_network import MLPClassifier\n",
    "from skmultilearn.problem_transform import ClassifierChain\n",
    "from sklearn.model_selection import train_test_split\n",
    "from GetProcessedData import get_question_dfs\n",
    "from AggregationMethods.ConfidenceMethods import highest_average_confidence\n",
    "from AggregationMethods.SurprisinglyPopular import surprisingly_pop_answer\n",
    "from AggregationMethods.MajorityRule import majority_answer\n",
    "from FeaturesExtraction.AnswerFeatures import AnswerF\n",
    "from FeaturesExtraction.AnswerFeaturesSubgroups import AnswerSubF\n",
    "from FeaturesExtraction.ConfidenceFeatures import ConfidenceF\n",
    "from FeaturesExtraction.ConfidenceFeaturesSubgroups import ConfidenceSubF\n",
    "from FeaturesExtraction.PredictionFeatures import PredictionsF\n",
    "import Pipeline.MultiLabelPipeline as MLpip"
   ]
  },
  {
   "cell_type": "code",
   "execution_count": 2,
   "metadata": {},
   "outputs": [],
   "source": [
    "#libraries\n",
    "import sys\n",
    "import os\n",
    "\n",
    "module_path = os.path.abspath(os.path.join(os.pardir, os.pardir))\n",
    "if module_path not in sys.path:\n",
    "    sys.path.append(module_path)\n",
    "\n",
    "# from ProjectFramework.GetProcessedData import get_question_dfs\n",
    "# from ProjectFramework.Pipeline.MultiLabelPipeline import create_data_df\n",
    "\n",
    "#import ProjectFramework.Pipeline.MultiLabelPipeline.MultiLabelPipeline.create_data_df\n",
    "import numpy as np \n",
    "import pandas as pd \n",
    "import os\n",
    "import json \n",
    "import matplotlib.pyplot as plt\n",
    "%matplotlib inline\n",
    "plt.style.use('ggplot')\n",
    "\n",
    "from sklearn.preprocessing import LabelEncoder\n",
    "from sklearn.model_selection import train_test_split\n",
    "from sklearn.datasets import make_classification\n",
    "from sklearn.model_selection import LeaveOneOut\n",
    "from sklearn.model_selection import StratifiedKFold, KFold\n",
    "from sklearn.metrics import accuracy_score,confusion_matrix,classification_report\n",
    "\n",
    "from sklearn.linear_model import LogisticRegression, LogisticRegressionCV\n",
    "from sklearn.naive_bayes import GaussianNB\n",
    "from sklearn.svm import SVC,LinearSVC\n",
    "from sklearn.ensemble import RandomForestClassifier\n",
    "from sklearn.tree import DecisionTreeClassifier\n",
    "from sklearn.neighbors import KNeighborsClassifier\n",
    "from sklearn.naive_bayes import BernoulliNB\n",
    "from sklearn.linear_model import SGDClassifier"
   ]
  },
  {
   "cell_type": "code",
   "execution_count": 3,
   "metadata": {},
   "outputs": [],
   "source": [
    "RF = RandomForestClassifier(random_state=0)\n",
    "LR = LogisticRegression(solver = 'liblinear')\n",
    "GNB = GaussianNB()\n",
    "SVC = LinearSVC(random_state=0)\n",
    "DT = DecisionTreeClassifier(random_state=0)\n",
    "BNB = BernoulliNB()\n",
    "SGD = SGDClassifier()"
   ]
  },
  {
   "cell_type": "code",
   "execution_count": 4,
   "metadata": {},
   "outputs": [],
   "source": [
    "# get compleate data frame with features:\n",
    "\n",
    "DATA = MLpip.get_data()\n",
    "LABELS = MLpip.get_label_names()\n",
    "\n",
    "y = DATA[LABELS]\n",
    "x = DATA.drop(LABELS,axis='columns', inplace=False)"
   ]
  },
  {
   "cell_type": "code",
   "execution_count": 5,
   "metadata": {},
   "outputs": [],
   "source": [
    "Accuracy = {}"
   ]
  },
  {
   "cell_type": "code",
   "execution_count": null,
   "metadata": {},
   "outputs": [],
   "source": [
    "# split data into train and test using leave one out validation\n",
    "results = {}\n",
    "# res = []\n",
    "loo = LeaveOneOut()\n",
    "loo.get_n_splits(x)\n",
    "\n",
    "for train_index, test_index in loo.split(x):\n",
    "    # print(\"TRAIN:\", train_index, \"TEST:\", test_index)\n",
    "    x_train, x_test = x.loc[train_index], x.loc[test_index]\n",
    "    y_train, y_test = y.loc[train_index], y.loc[test_index]\n",
    "    # print(X_train, X_test, y_train, y_test)\n",
    "    ## HERE - run moddels\n",
    "    \n",
    "#     clf_chain_RF = MLpip.classifier_chain(x_train, y_train, RandomForestClassifier(random_state=0))\n",
    "#     results_RF.update(MLpip.get_model_results(clf_chain_RF, x_test))\n",
    "#Accuracy['LR'] = MLpip.get_accuracy(results_RF, y)\n",
    "\n",
    "    clf_chain_LR = MLpip.classifier_chain(x_train, y_train,LogisticRegression(solver = 'liblinear',max_iter=10000))\n",
    "    results.update(MLpip.get_model_results(clf_chain_LR, x_test))\n",
    "    \n",
    "Accuracy['LR'] = MLpip.get_accuracy(results, y)\n",
    "\n",
    "#     clf_chain_GNB = MLpip.classifier_chain(x_train, y_train, GaussianNB())\n",
    "#     results.update(MLpip.get_model_results(clf_chain_GNB, x_test))\n",
    "# Accuracy['GNB'] = MLpip.get_accuracy(results, y)\n",
    "\n",
    "\n",
    "\n",
    "#     print(\"accuracy_score:\", accuracy_score(y_test,res_svc))\n",
    "#     print(\"Hamming_loss:\", hamming_loss(y_test,res_svc))\n",
    "#     print(metrics.classification_report(y_test, rounded_pred, zero_division=0))"
   ]
  },
  {
   "cell_type": "code",
   "execution_count": 7,
   "metadata": {},
   "outputs": [
    {
     "data": {
      "text/plain": [
       "{'GNB': 0.816793893129771}"
      ]
     },
     "execution_count": 7,
     "metadata": {},
     "output_type": "execute_result"
    }
   ],
   "source": [
    "\n",
    "Accuracy"
   ]
  },
  {
   "cell_type": "code",
   "execution_count": null,
   "metadata": {},
   "outputs": [],
   "source": [
    "from sklearn.metrics import hamming_loss, accuracy_score \n",
    "\n",
    "print(\"accuracy_score:\", accuracy_score(y, res))\n",
    "print(\"Hamming_loss:\", hamming_loss(y, res))"
   ]
  },
  {
   "cell_type": "code",
   "execution_count": null,
   "metadata": {},
   "outputs": [],
   "source": [
    "###### split data into train and test using regular split\n",
    "\n",
    "# create training and testing vars\n",
    "X_train, X_test, y_train, y_test = train_test_split(x, y, test_size=0.2)\n",
    "print X_train.shape, y_train.shape\n",
    "print X_test.shape, y_test.shape\n",
    "\n"
   ]
  },
  {
   "cell_type": "code",
   "execution_count": null,
   "metadata": {},
   "outputs": [],
   "source": [
    "# split data into train and test using k-fold cross validation\n",
    "\n",
    "kf = KFold(n_splits=2, random_state=None, shuffle=False) # Define the split - into 2 folds \n",
    "kf.get_n_splits(X) # returns the number of splitting iterations in the cross-validator\n",
    "\n",
    "for train_index, test_index in kf.split(X):\n",
    "    # print(“TRAIN:”, train_index, “TEST:”, test_index)\n",
    "    X_train, X_test = X[train_index], X[test_index]\n",
    "    y_train, y_test = y[train_index], y[test_index]\n",
    "    ## HERE - run moddels\n",
    "    "
   ]
  },
  {
   "cell_type": "code",
   "execution_count": null,
   "metadata": {},
   "outputs": [],
   "source": [
    "from sklearn.model_selection import cross_val_score, cross_val_predict\n",
    "from sklearn import metrics\n",
    "\n",
    "# Perform k-fold cross validation\n",
    "k = 10\n",
    "scores = cross_val_score(model, x, y, cv=k)\n",
    "print “Cross-validated scores:”, scores\n",
    "    \n",
    "# Make cross validated predictions\n",
    "predictions = cross_val_predict(model, df, y, cv=k)\n",
    "plt.scatter(y, predictions)"
   ]
  },
  {
   "cell_type": "markdown",
   "metadata": {},
   "source": [
    "## present accuracy"
   ]
  },
  {
   "cell_type": "code",
   "execution_count": null,
   "metadata": {},
   "outputs": [],
   "source": [
    "## present accuracy\n",
    "accuracy_list = []\n",
    "\n",
    "## add all models accuracy to list\n",
    "accuracy_list.append(accuracy_score(nb_predict,y_test))\n",
    "accuracy_list.append(accuracy_score(knn_predict,y_test))\n",
    "accuracy_list.append(accuracy_score(rfc_predict,y_test))\n",
    "accuracy_list.append(accuracy_score(logreg_predict,y_test))\n",
    "accuracy_list.append(accuracy_score(svm_predict,y_test))\n",
    "accuracy_list.append(accuracy_score(adc_predict,y_test))\n",
    "\n",
    "accuracy_dataframe = pd.DataFrame(columns=[\"Model\",\"Accuracy\"])\n",
    "model_list = ['Naive_Bayes','KNN','Random_Forest','Logistic_Reg','SVM','Ada_Boost']\n",
    "\n",
    "for i in range(len(accuracy_list)):\n",
    "    accuracy_dataframe.loc[i] = model_list[i], accuracy_list[i]\n",
    "\n",
    "accuracy_dataframe"
   ]
  },
  {
   "cell_type": "markdown",
   "metadata": {},
   "source": [
    "## shap feature evaluation"
   ]
  },
  {
   "cell_type": "code",
   "execution_count": null,
   "metadata": {},
   "outputs": [],
   "source": [
    "# load JS vis\n",
    "shap.initjs() \n",
    "\n",
    "## the best model:\n",
    "model = rt_model\n",
    "\n",
    "# create a tree explainer for Random Forest\n",
    "explainer = shap.TreeExplainer(model)\n",
    "\n",
    "#sample 100 observations from the test data\n",
    "observations = X_test.sample(100, random_state=42)\n",
    "\n",
    "#create an explainer\n",
    "shap_values = explainer.shap_values(observations)\n",
    "\n",
    "#generate a summary plot\n",
    "shap.summary_plot(shap_values[1], features=observations)"
   ]
  },
  {
   "cell_type": "markdown",
   "metadata": {},
   "source": [
    "## confusion matrix"
   ]
  },
  {
   "cell_type": "code",
   "execution_count": null,
   "metadata": {},
   "outputs": [],
   "source": [
    "#confusion matrix visualization\n",
    "\n",
    "def plot_confusion_matrix(test_Y, predict_y):\n",
    "    C = confusion_matrix(test_Y, predict_y)\n",
    "    A =(((C.T)/(C.sum(axis=1))).T)\n",
    "    B =(C/C.sum(axis=0))\n",
    "    plt.figure(figsize=(20,4))\n",
    "    labels = [1,2]\n",
    "    cmap=sns.light_palette(\"#45c6c4\")\n",
    "    plt.subplot(1, 3, 1)\n",
    "    sns.heatmap(C, annot=True, cmap=cmap, fmt=\".3f\", xticklabels=labels, yticklabels=labels)\n",
    "    plt.xlabel('Predicted Class')\n",
    "    plt.ylabel('Original Class')\n",
    "    plt.title(\"Confusion matrix\")\n",
    "    plt.subplot(1, 3, 2)\n",
    "    sns.heatmap(B, annot=True, cmap=cmap, fmt=\".3f\", xticklabels=labels, yticklabels=labels)\n",
    "    plt.xlabel('Predicted Class')\n",
    "    plt.ylabel('Original Class')\n",
    "    plt.title(\"Precision matrix\")\n",
    "    plt.subplot(1, 3, 3)\n",
    "    sns.heatmap(A, annot=True, cmap=cmap, fmt=\".3f\", xticklabels=labels, yticklabels=labels)\n",
    "    plt.xlabel('Predicted Class')\n",
    "    plt.ylabel('Original Class')\n",
    "    plt.title(\"Recall matrix\")\n",
    "    plt.show()\n",
    "\n",
    "plot_confusion_matrix(y_test, rfc_predict)"
   ]
  }
 ],
 "metadata": {
  "kernelspec": {
   "display_name": "Python 3",
   "language": "python",
   "name": "python3"
  },
  "language_info": {
   "codemirror_mode": {
    "name": "ipython",
    "version": 3
   },
   "file_extension": ".py",
   "mimetype": "text/x-python",
   "name": "python",
   "nbconvert_exporter": "python",
   "pygments_lexer": "ipython3",
   "version": "3.7.8"
  }
 },
 "nbformat": 4,
 "nbformat_minor": 4
}
